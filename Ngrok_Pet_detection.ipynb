{
 "cells": [
  {
   "cell_type": "markdown",
   "metadata": {},
   "source": [
    "# _Please Run notebook in Google Colab._ Thank you."
   ]
  },
  {
   "cell_type": "markdown",
   "metadata": {
    "id": "pOnTX_38uygc"
   },
   "source": [
    "# PET BREED RECOGNITION: DATA SCIENCE PRODUCT DEVELOPMENT\n",
    "## CETM46 - Data Science Product Development\n",
    "### This Notebook file contains the complete Data Science Product Development frameworks required for launching the app to the web using Ngrok authentication token.\n",
    "The Project is credited to:\n",
    "\n",
    "Okeoma O. Ihunwo\n",
    "Student No.: 229154449\n",
    "Course: MSc Applied Data Science\n",
    "School of Computer Science\n",
    "University of Sunderland (2022/3 - Sunderland - ASUND)"
   ]
  },
  {
   "cell_type": "markdown",
   "metadata": {
    "id": "uuJuM8oNwKAI"
   },
   "source": [
    "## Before you start:\n",
    "### Create the path and copy both the model and the app image folders with the contents into your Google drive to avoid getting errors while running the webapp.\n",
    "- Recommended model path: '/content/drive/MyDrive/Colab Notebooks/models/FreezeModel_tf06'\n",
    "\n",
    "- Recommended image path: '/content/drive/MyDrive/Colab Notebooks/images/cat-dog.jpg'\n",
    "\n",
    "- Go to https://ngrok.com, register an account (If you don't have one already) and copy your authentication token for use in the notebook."
   ]
  },
  {
   "cell_type": "code",
   "execution_count": null,
   "metadata": {
    "colab": {
     "base_uri": "https://localhost:8080/"
    },
    "id": "vfMwxmIIL5y1",
    "outputId": "4baa8ae3-6462-470f-bf78-c61b1c799043"
   },
   "outputs": [
    {
     "name": "stdout",
     "output_type": "stream",
     "text": [
      "Looking in indexes: https://pypi.org/simple, https://us-python.pkg.dev/colab-wheels/public/simple/\n",
      "Requirement already satisfied: ipykernel==5.5.6 in /usr/local/lib/python3.9/dist-packages (5.5.6)\n",
      "Requirement already satisfied: ipython>=5.0.0 in /usr/local/lib/python3.9/dist-packages (from ipykernel==5.5.6) (7.34.0)\n",
      "Requirement already satisfied: traitlets>=4.1.0 in /usr/local/lib/python3.9/dist-packages (from ipykernel==5.5.6) (5.7.1)\n",
      "Requirement already satisfied: jupyter-client in /usr/local/lib/python3.9/dist-packages (from ipykernel==5.5.6) (6.1.12)\n",
      "Requirement already satisfied: tornado>=4.2 in /usr/local/lib/python3.9/dist-packages (from ipykernel==5.5.6) (6.2)\n",
      "Requirement already satisfied: ipython-genutils in /usr/local/lib/python3.9/dist-packages (from ipykernel==5.5.6) (0.2.0)\n",
      "Requirement already satisfied: pygments in /usr/local/lib/python3.9/dist-packages (from ipython>=5.0.0->ipykernel==5.5.6) (2.14.0)\n",
      "Collecting jedi>=0.16\n",
      "  Downloading jedi-0.18.2-py2.py3-none-any.whl (1.6 MB)\n",
      "\u001b[2K     \u001b[90m━━━━━━━━━━━━━━━━━━━━━━━━━━━━━━━━━━━━━━━━\u001b[0m \u001b[32m1.6/1.6 MB\u001b[0m \u001b[31m14.1 MB/s\u001b[0m eta \u001b[36m0:00:00\u001b[0m\n",
      "\u001b[?25hRequirement already satisfied: pickleshare in /usr/local/lib/python3.9/dist-packages (from ipython>=5.0.0->ipykernel==5.5.6) (0.7.5)\n",
      "Requirement already satisfied: matplotlib-inline in /usr/local/lib/python3.9/dist-packages (from ipython>=5.0.0->ipykernel==5.5.6) (0.1.6)\n",
      "Requirement already satisfied: backcall in /usr/local/lib/python3.9/dist-packages (from ipython>=5.0.0->ipykernel==5.5.6) (0.2.0)\n",
      "Requirement already satisfied: prompt-toolkit!=3.0.0,!=3.0.1,<3.1.0,>=2.0.0 in /usr/local/lib/python3.9/dist-packages (from ipython>=5.0.0->ipykernel==5.5.6) (3.0.38)\n",
      "Requirement already satisfied: pexpect>4.3 in /usr/local/lib/python3.9/dist-packages (from ipython>=5.0.0->ipykernel==5.5.6) (4.8.0)\n",
      "Requirement already satisfied: decorator in /usr/local/lib/python3.9/dist-packages (from ipython>=5.0.0->ipykernel==5.5.6) (4.4.2)\n",
      "Requirement already satisfied: setuptools>=18.5 in /usr/local/lib/python3.9/dist-packages (from ipython>=5.0.0->ipykernel==5.5.6) (67.6.1)\n",
      "Requirement already satisfied: python-dateutil>=2.1 in /usr/local/lib/python3.9/dist-packages (from jupyter-client->ipykernel==5.5.6) (2.8.2)\n",
      "Requirement already satisfied: pyzmq>=13 in /usr/local/lib/python3.9/dist-packages (from jupyter-client->ipykernel==5.5.6) (23.2.1)\n",
      "Requirement already satisfied: jupyter-core>=4.6.0 in /usr/local/lib/python3.9/dist-packages (from jupyter-client->ipykernel==5.5.6) (5.3.0)\n",
      "Requirement already satisfied: parso<0.9.0,>=0.8.0 in /usr/local/lib/python3.9/dist-packages (from jedi>=0.16->ipython>=5.0.0->ipykernel==5.5.6) (0.8.3)\n",
      "Requirement already satisfied: platformdirs>=2.5 in /usr/local/lib/python3.9/dist-packages (from jupyter-core>=4.6.0->jupyter-client->ipykernel==5.5.6) (3.2.0)\n",
      "Requirement already satisfied: ptyprocess>=0.5 in /usr/local/lib/python3.9/dist-packages (from pexpect>4.3->ipython>=5.0.0->ipykernel==5.5.6) (0.7.0)\n",
      "Requirement already satisfied: wcwidth in /usr/local/lib/python3.9/dist-packages (from prompt-toolkit!=3.0.0,!=3.0.1,<3.1.0,>=2.0.0->ipython>=5.0.0->ipykernel==5.5.6) (0.2.6)\n",
      "Requirement already satisfied: six>=1.5 in /usr/local/lib/python3.9/dist-packages (from python-dateutil>=2.1->jupyter-client->ipykernel==5.5.6) (1.16.0)\n",
      "Installing collected packages: jedi\n",
      "Successfully installed jedi-0.18.2\n"
     ]
    }
   ],
   "source": [
    "# Installing a suitable ipykernel for Google Colab\n",
    "!pip install -U ipykernel==5.5.6"
   ]
  },
  {
   "cell_type": "code",
   "execution_count": null,
   "metadata": {
    "colab": {
     "base_uri": "https://localhost:8080/"
    },
    "id": "BghYP87aOwW2",
    "outputId": "6530f0b3-5cf9-4653-c6c9-aa4a6d0c1f0c"
   },
   "outputs": [
    {
     "name": "stdout",
     "output_type": "stream",
     "text": [
      "\u001b[2K     \u001b[90m━━━━━━━━━━━━━━━━━━━━━━━━━━━━━━━━━━━━━━━━\u001b[0m \u001b[32m9.7/9.7 MB\u001b[0m \u001b[31m41.1 MB/s\u001b[0m eta \u001b[36m0:00:00\u001b[0m\n",
      "\u001b[2K     \u001b[90m━━━━━━━━━━━━━━━━━━━━━━━━━━━━━━━━━━━━━━\u001b[0m \u001b[32m164.8/164.8 kB\u001b[0m \u001b[31m13.4 MB/s\u001b[0m eta \u001b[36m0:00:00\u001b[0m\n",
      "\u001b[?25h  Preparing metadata (setup.py) ... \u001b[?25l\u001b[?25hdone\n",
      "\u001b[2K     \u001b[90m━━━━━━━━━━━━━━━━━━━━━━━━━━━━━━━━━━━━━━━\u001b[0m \u001b[32m184.3/184.3 kB\u001b[0m \u001b[31m6.5 MB/s\u001b[0m eta \u001b[36m0:00:00\u001b[0m\n",
      "\u001b[2K     \u001b[90m━━━━━━━━━━━━━━━━━━━━━━━━━━━━━━━━━━━━━━━━\u001b[0m \u001b[32m82.1/82.1 kB\u001b[0m \u001b[31m5.5 MB/s\u001b[0m eta \u001b[36m0:00:00\u001b[0m\n",
      "\u001b[2K     \u001b[90m━━━━━━━━━━━━━━━━━━━━━━━━━━━━━━━━━━━━━━━━\u001b[0m \u001b[32m4.8/4.8 MB\u001b[0m \u001b[31m56.5 MB/s\u001b[0m eta \u001b[36m0:00:00\u001b[0m\n",
      "\u001b[2K     \u001b[90m━━━━━━━━━━━━━━━━━━━━━━━━━━━━━━━━━━━━━━━━\u001b[0m \u001b[32m62.7/62.7 kB\u001b[0m \u001b[31m5.3 MB/s\u001b[0m eta \u001b[36m0:00:00\u001b[0m\n",
      "\u001b[?25h  Building wheel for validators (setup.py) ... \u001b[?25l\u001b[?25hdone\n"
     ]
    }
   ],
   "source": [
    "# Installing Streamlit package\n",
    "!pip install -q streamlit"
   ]
  },
  {
   "cell_type": "code",
   "execution_count": null,
   "metadata": {
    "colab": {
     "base_uri": "https://localhost:8080/"
    },
    "id": "NQ0I49N_aWVs",
    "outputId": "2c2afe1c-d92b-468b-9e27-0a00ac4c8226"
   },
   "outputs": [
    {
     "name": "stdout",
     "output_type": "stream",
     "text": [
      "Looking in indexes: https://pypi.org/simple, https://us-python.pkg.dev/colab-wheels/public/simple/\n",
      "Collecting pyngrok==4.1.1\n",
      "  Downloading pyngrok-4.1.1.tar.gz (18 kB)\n",
      "  Preparing metadata (setup.py) ... \u001b[?25l\u001b[?25hdone\n",
      "Requirement already satisfied: future in /usr/local/lib/python3.9/dist-packages (from pyngrok==4.1.1) (0.18.3)\n",
      "Requirement already satisfied: PyYAML in /usr/local/lib/python3.9/dist-packages (from pyngrok==4.1.1) (6.0)\n",
      "Building wheels for collected packages: pyngrok\n",
      "  Building wheel for pyngrok (setup.py) ... \u001b[?25l\u001b[?25hdone\n",
      "  Created wheel for pyngrok: filename=pyngrok-4.1.1-py3-none-any.whl size=15979 sha256=ecd22a89d749eb2b3708df3a40f6c5027672ce7815246b4fd242a70c6914f7a2\n",
      "  Stored in directory: /root/.cache/pip/wheels/89/2d/c2/abe6bcfde6bce368c00ecd73310c11edb672c3eda09a090cfa\n",
      "Successfully built pyngrok\n",
      "Installing collected packages: pyngrok\n",
      "Successfully installed pyngrok-4.1.1\n"
     ]
    }
   ],
   "source": [
    "!pip install pyngrok==4.1.1"
   ]
  },
  {
   "cell_type": "code",
   "execution_count": null,
   "metadata": {
    "colab": {
     "base_uri": "https://localhost:8080/"
    },
    "id": "oa5v1fiUiDMc",
    "outputId": "9ceac768-d97f-492e-eee3-c6e91d63c0fa"
   },
   "outputs": [
    {
     "name": "stdout",
     "output_type": "stream",
     "text": [
      "Looking in indexes: https://pypi.org/simple, https://us-python.pkg.dev/colab-wheels/public/simple/\n",
      "Collecting st-annotated-text\n",
      "  Downloading st-annotated-text-4.0.0.tar.gz (7.8 kB)\n",
      "  Preparing metadata (setup.py) ... \u001b[?25l\u001b[?25hdone\n",
      "Collecting htbuilder\n",
      "  Downloading htbuilder-0.6.1.tar.gz (10 kB)\n",
      "  Preparing metadata (setup.py) ... \u001b[?25l\u001b[?25hdone\n",
      "Requirement already satisfied: more-itertools in /usr/local/lib/python3.9/dist-packages (from htbuilder->st-annotated-text) (9.1.0)\n",
      "Building wheels for collected packages: st-annotated-text, htbuilder\n",
      "  Building wheel for st-annotated-text (setup.py) ... \u001b[?25l\u001b[?25hdone\n",
      "  Created wheel for st-annotated-text: filename=st_annotated_text-4.0.0-py3-none-any.whl size=8921 sha256=c4623edacfefa08e6b4dc9bc3a55315da287d85b0bd0defebfb91b66e4be1c23\n",
      "  Stored in directory: /root/.cache/pip/wheels/34/40/74/4ab9b61ac51904fd8cbb2c6bf825389444e0f569209f7bc18f\n",
      "  Building wheel for htbuilder (setup.py) ... \u001b[?25l\u001b[?25hdone\n",
      "  Created wheel for htbuilder: filename=htbuilder-0.6.1-py3-none-any.whl size=12456 sha256=b20d17031668d3f957270720ede53d380ba79184bd994b06b6b8c7b005ba2164\n",
      "  Stored in directory: /root/.cache/pip/wheels/f0/0d/7b/964fd5d338f48203a00261b7637c253ae09f398cde49ec2565\n",
      "Successfully built st-annotated-text htbuilder\n",
      "Installing collected packages: htbuilder, st-annotated-text\n",
      "Successfully installed htbuilder-0.6.1 st-annotated-text-4.0.0\n"
     ]
    }
   ],
   "source": [
    "# Installing text library for displaying text\n",
    "!pip install st-annotated-text"
   ]
  },
  {
   "cell_type": "code",
   "execution_count": null,
   "metadata": {
    "colab": {
     "base_uri": "https://localhost:8080/"
    },
    "id": "HYNpOEoUP4aG",
    "outputId": "78765fc1-c78a-49fe-973d-4169caef90eb"
   },
   "outputs": [
    {
     "name": "stdout",
     "output_type": "stream",
     "text": [
      "Authtoken saved to configuration file: /root/.ngrok2/ngrok.yml\n"
     ]
    }
   ],
   "source": [
    "# Authentication token from ngrok (Copy and paste your token here - Replace all X symbols)\n",
    "!ngrok authtoken XXXXXXXXXXXXXXXXXXXXXXXXXX"
   ]
  },
  {
   "cell_type": "code",
   "execution_count": null,
   "metadata": {
    "colab": {
     "base_uri": "https://localhost:8080/"
    },
    "id": "zphpEAonOwns",
    "outputId": "c6c59864-8778-4932-fc74-f2432dfbb75f"
   },
   "outputs": [
    {
     "name": "stdout",
     "output_type": "stream",
     "text": [
      "Mounted at /content/drive\n"
     ]
    }
   ],
   "source": [
    "# Load Google drive (Allow drive permission when prompted)\n",
    "from google.colab import drive\n",
    "drive.mount('/content/drive')"
   ]
  },
  {
   "cell_type": "code",
   "execution_count": null,
   "metadata": {
    "colab": {
     "base_uri": "https://localhost:8080/"
    },
    "id": "nOWLgoUhMFpO",
    "outputId": "fd83657d-4f34-47d2-d973-293345d36c5a"
   },
   "outputs": [
    {
     "name": "stdout",
     "output_type": "stream",
     "text": [
      "Writing pet_detection.py\n"
     ]
    }
   ],
   "source": [
    "%%writefile pet_detection.py\n",
    "# This is the program that runs the webapp\n",
    "# Importing packages\n",
    "import streamlit as st \n",
    "import cv2\n",
    "from PIL import Image\n",
    "import numpy as np \n",
    "import tensorflow as tf\n",
    "from annotated_text import annotated_text\n",
    "import webbrowser\n",
    "\n",
    "# Remove deprecation warnings\n",
    "st.set_option('deprecation.showfileUploaderEncoding', False)\n",
    "\n",
    "# Function to laod the image file\n",
    "@st.cache_data\n",
    "def load_image(image_file):\n",
    "\tpet_image = Image.open(image_file)\n",
    "\treturn pet_image\t\t\n",
    "\n",
    "# Function to precess image to the correct size\n",
    "def process_image(_pet_image):\n",
    "\tnew_img = np.array(_pet_image.convert('RGB'))\n",
    "\timg = cv2.cvtColor(new_img,1)\t        \n",
    "\n",
    "\t# Resizing the image\n",
    "\timg_array = cv2.resize(img, (IMG_SIZE, IMG_SIZE))\t\n",
    "\tdata = np.array(img_array).reshape(-1, IMG_SIZE, IMG_SIZE, 3)\n",
    "\treturn data\n",
    "\n",
    "# Function to load the model\n",
    "def load_petModel():\n",
    "\tmodel = tf.keras.models.load_model('/content/drive/MyDrive/Colab Notebooks/models/FreezeModel_tf06')    \n",
    "\treturn model\n",
    "\n",
    "# function to predict the pet breed\n",
    "@st.cache_data\n",
    "def predict_breed(_model, data):\n",
    "\t# predict the pet breed using the data\n",
    "\timage_pred = _model.predict(data)\n",
    "\n",
    "\t# convert values in the array from one-hot encoding to decimal numbers\n",
    "\timage_pred_id = [ np.argmax(i)+1 for i in image_pred]\n",
    "\n",
    "\t# Get the pet breed from the data \n",
    "\tpet_breed = classes[image_pred_id[0]-1].title()\n",
    "\treturn pet_breed\n",
    "\n",
    "\n",
    "# Start of Program\n",
    "\n",
    "# Get all classes of the breed\n",
    "classes = [\n",
    "\t'Abyssinian','American bulldog', 'American pit bull_terrier', 'Basset hound',\n",
    "\t'Beagle','Bengal','Birman','Bombay','Boxer','British shorthair','Chihuahua',\n",
    "\t'Egyptian mau','English cocker spaniel','English setter','German shorthaired',\n",
    "\t'Great pyrenees','Havanese','Japanese chin','Keeshond','Leonberger','Maine coon',\n",
    "\t'Miniature pinscher','Newfoundland','Persian','Pomeranian','Pug','Ragdoll',\n",
    "\t'Russian blue','Saint bernard','Samoyed','Scottish terrier','Shiba inu','Siamese',\n",
    "\t'Sphynx','Staffordshire bull terrier','Wheaten terrier','Yorkshire terrier'\n",
    "] \n",
    "# Setting image pixel side size\n",
    "IMG_SIZE = 299\n",
    "\n",
    "# Assigning Image to variable\n",
    "cat_dog = '/content/drive/MyDrive/Colab Notebooks/images/cat-dog.jpg'\n",
    "st.title(\"Pet Breed Detection for Online Store\")\n",
    "st.markdown(\"\"\"---\"\"\")\n",
    "\n",
    "activities = [\"Detection\",\"Search Store\",\"About\"]\n",
    "choice = st.sidebar.selectbox(\"Select Activty\",activities)\n",
    "\n",
    "if choice == 'Detection':\n",
    "\t# Detection type\n",
    "\tdetection_choice = st.radio(\n",
    "\t\"How do you want to detect your Pet's Breed?\",\n",
    "\t(\"AI Detection\", \"Manual Detection\"))\n",
    "\tif detection_choice == \"AI Detection\":\n",
    "\n",
    "\t\tst.subheader(\"AI Dog and Cat Breed Detection\")\n",
    "\n",
    "\t\timage_file = st.file_uploader(\"Upload your Pet's Image\",type=['jpg','png','jpeg'])\n",
    "\n",
    "\t\tif image_file is not None:\n",
    "\t\t\t# Calling the load_image function\n",
    "\t\t\tpet_image = load_image(image_file)\t\t\n",
    "\t\t\tst.text(\"Original Image\")\t\t\t\n",
    "\t\t\tst.image(pet_image,width=400)\n",
    "\t\t\t# Delete a single key-value pair\n",
    "\t\t\tst.session_state[\"pet_breedname\"] = \"\"\n",
    "\t\t\tst.session_state[\"image_file\"] = image_file\t\n",
    "\t\t\t\n",
    "\n",
    "\t\tif st.button(\"Process\"):\t\t\n",
    "\t\t\tif image_file is not None:\n",
    "\t\t\t\t# Calling the process_image function\t\n",
    "\t\t\t\tdata = process_image(pet_image)\n",
    "\t\t\t\twith st.spinner('Please Wait while AI Fetches the Pet Breed...'):\n",
    "\t\t\t\t\t# Calling the load_model function\n",
    "\t\t\t\t\treloaded_model = load_petModel()\n",
    "\n",
    "\t\t\t\t# Calling the predict_breed function to predict the pet breed using the data\n",
    "\t\t\t\tst.balloons()\n",
    "\t\t\t\tpet_breed = predict_breed(reloaded_model, data)\t\t\n",
    "\t\t\t\tst.session_state[\"pet_breedname\"] = pet_breed\n",
    "\t\t\t\t#st.session_state[\"image_file\"] = image_file\t\n",
    "\t\t\t\tst.markdown(\"\"\"---\"\"\")\n",
    "\t\t\t\t# Display results\n",
    "\t\t\t\tannotated_text(\n",
    "\t\t\t\t(\"The breed of the pet is \", \"#6ff\"),\n",
    "\t\t\t\t(pet_breed, \"fcc\"),\n",
    "\t\t\t\t)\t\t\t\t\n",
    "\t\t\telse:\n",
    "\t\t\t\tst.error(\"Please upload a valid image of your pet\")\n",
    "\tif detection_choice == \"Manual Detection\":\n",
    "\t\t\n",
    "\t\tif \"pet_breedname\" not in st.session_state:\n",
    "\t\t\tst.session_state[\"pet_breedname\"] = \"\"\n",
    "\n",
    "\t\timage_file = cat_dog\n",
    "\t\tst.image(image_file,width=400)\n",
    "\t\tst.session_state[\"image_file\"] = image_file\n",
    "\n",
    "\t\tpet_breedname = st.selectbox(\"Select your Pet's Breed Here!\", classes)\n",
    "\t\t#my_input = st.text_input(\"Select your Pet's Breed Here!\", st.session_state[\"my_input\"])\n",
    "\t\tsubmit = st.button(\"Process\")\n",
    "\t\tif submit:\n",
    "\t\t\tst.session_state[\"pet_breedname\"] = pet_breedname\n",
    "\t\t\t\n",
    "\t\t\t# Display results\n",
    "\t\t\tannotated_text(\n",
    "\t\t\t(\"You have Selected: \", \"#6ff\"),\n",
    "\t\t\t(pet_breedname, \"fcc\"),\n",
    "\t\t\t)       \n",
    "\t\n",
    "\t\t\n",
    "elif choice == 'Search Store':\n",
    "\n",
    "\t# Initialization null for 'pet_breedname' and 'image_file' if they are empty\n",
    "\tif \"pet_breedname\" not in st.session_state:\n",
    "\t\tst.session_state[\"pet_breedname\"] = \"\"\n",
    "\n",
    "\tif \"image_file\" not in st.session_state:\n",
    "\t\tst.session_state[\"image_file\"] = \"\"\n",
    "\n",
    "\tst.subheader(\"Welcome to the Pet Store\")\t\n",
    "\tif st.session_state[\"pet_breedname\"] == \"\":\n",
    "\t\tst.error(\"Process your Pet's Breed in the 'Detection' Page to Access the Store\")\n",
    "\telse:\n",
    "\t\tst.markdown(\"Search for your Pet's Products Here!\")\t\t\n",
    "\t\timage_file= st.session_state[\"image_file\"]\n",
    "\t\tst.success(f'The name of the Pet breed is {st.session_state[\"pet_breedname\"]}')\n",
    "\t\t# Calling the load_image function\n",
    "\t\tpet_image = load_image(image_file)\t\t\t\t\n",
    "\t\tst.image(pet_image,width=400)\t\n",
    "\t\tst.markdown(\"\"\"---\"\"\")\n",
    "\t\tstore_type = [\"Apparel\",\"Accessory\",\"Food\", \"Pet Toy\", \"Veterinary\", \"All Products\"]\n",
    "\t\tstore_choice = st.selectbox(\"What do you want to get for your pet?\", store_type)\t\n",
    "\t\tpet_breed = st.session_state[\"pet_breedname\"]\t\n",
    "\t\tif store_choice == \"Apparel\":\n",
    "\t\t\tst.subheader(f\"Get Apparels for your {pet_breed} pet\")\n",
    "\t\t\tif st.button(\"Access Store\"):\n",
    "\t\t\t\twebbrowser.open(f'https://www.google.com/search?q=Apparels+for+my+{pet_breed}+pet')\n",
    "\t\telif store_choice == \"Accessory\":\n",
    "\t\t\tst.subheader(f\"Get Accessories for your {pet_breed} pet\")\n",
    "\t\t\tif st.button(\"Access Store\"):\n",
    "\t\t\t\twebbrowser.open(f'https://www.google.com/search?q=Accessories+for+my+{pet_breed}+pet')\n",
    "\t\telif store_choice == \"Food\":\n",
    "\t\t\tst.subheader(f\"Get Food Items for your {pet_breed} pet\")\n",
    "\t\t\tif st.button(\"Access Store\"):\n",
    "\t\t\t\twebbrowser.open(f'https://www.google.com/search?q=Food+items+for+my+{pet_breed}+pet')\n",
    "\t\telif store_choice == \"Pet Toy\":\n",
    "\t\t\tst.subheader(f\"Get Toys for your {pet_breed} pet\")\n",
    "\t\t\tif st.button(\"Access Store\"):\n",
    "\t\t\t\twebbrowser.open(f'https://www.google.com/search?q=Toys+for+my+{pet_breed}+pet')\n",
    "\t\telif store_choice == \"Veterinary\":\n",
    "\t\t\tst.subheader(f\"Get Veterinary Care for your {pet_breed} pet\")\n",
    "\t\t\tif st.button(\"Access Store\"):\n",
    "\t\t\t\twebbrowser.open(f'https://www.google.com/search?q=Veterinary+Care+for+my+{pet_breed}+pet')\n",
    "\t\telif store_choice == \"All Products\":\n",
    "\t\t\tst.subheader(f\"Get Various Products for your {pet_breed} pet\")\n",
    "\t\t\tif st.button(\"Access Store\"):\n",
    "\t\t\t\twebbrowser.open(f'https://www.google.com/search?q=Various+Products+for+my+{pet_breed}+pet')\n",
    "\n",
    "elif choice == 'About':\t\n",
    "\t\n",
    "\tst.subheader(\"About Pet Breed Detection App\")\n",
    "\tst.markdown(\"\"\"---\"\"\")\n",
    "\n",
    "\tst.image(cat_dog,width=400)\n",
    "\n",
    "\tst.markdown(\"Built with Streamlit by Okeoma O. Ihunwo\")\n",
    "\tst.markdown(\"Student No.: 229154449\")\n",
    "\tst.markdown(\"Course: MSc Applied Data Science\")\n",
    "\tst.markdown(\"School of Computer Science\")\t\n",
    "\tst.text(\"University of Sunderland (2022/3 - Sunderland - ASUND\")\n",
    "\tst.markdown(\"\"\"---\"\"\")\t\n",
    "\tst.success(\"ONLINE STORE FOR PETS USING MACHINE LEARNING TO DETECT PET BREEDS\")\n",
    "\n",
    "\n",
    "st.markdown(\"\"\"---\"\"\")\n",
    "st.text(\"Built with Streamlit and OpenCV\")\n"
   ]
  },
  {
   "cell_type": "code",
   "execution_count": null,
   "metadata": {
    "colab": {
     "base_uri": "https://localhost:8080/"
    },
    "id": "Q4zDmyFsNZh-",
    "outputId": "f2e06d23-3e91-4630-aa9e-32ec89e797d8"
   },
   "outputs": [
    {
     "name": "stdout",
     "output_type": "stream",
     "text": [
      "nohup: appending output to 'nohup.out'\n"
     ]
    }
   ],
   "source": [
    "# Stores any error and data while loading the app to nohup.out\n",
    "!nohup streamlit run pet_detection.py &"
   ]
  },
  {
   "cell_type": "code",
   "execution_count": null,
   "metadata": {
    "colab": {
     "base_uri": "https://localhost:8080/",
     "height": 35
    },
    "id": "6X9AQUjuNru8",
    "outputId": "a8237ee8-30a8-4bf8-91c7-c7f15b5c4364"
   },
   "outputs": [
    {
     "data": {
      "application/vnd.google.colaboratory.intrinsic+json": {
       "type": "string"
      },
      "text/plain": [
       "'http://eff7-34-73-2-222.ngrok-free.app'"
      ]
     },
     "execution_count": 9,
     "metadata": {},
     "output_type": "execute_result"
    }
   ],
   "source": [
    "from pyngrok import ngrok\n",
    "\n",
    "url = ngrok.connect(port=8501)\n",
    "\n",
    "# Copy and paste the url to your browser\n",
    "url"
   ]
  },
  {
   "cell_type": "code",
   "execution_count": null,
   "metadata": {
    "colab": {
     "base_uri": "https://localhost:8080/",
     "height": 35
    },
    "id": "Y7eAyGOrgaVB",
    "outputId": "b2ea9535-077e-4fbf-bda9-1c2763bd4c4e"
   },
   "outputs": [
    {
     "data": {
      "application/vnd.google.colaboratory.intrinsic+json": {
       "type": "string"
      },
      "text/plain": [
       "'http://eff7-34-73-2-222.ngrok-free.app'"
      ]
     },
     "execution_count": 10,
     "metadata": {},
     "output_type": "execute_result"
    }
   ],
   "source": [
    "# Copy and paste the url to your browser\n",
    "url"
   ]
  },
  {
   "cell_type": "code",
   "execution_count": null,
   "metadata": {
    "colab": {
     "base_uri": "https://localhost:8080/"
    },
    "id": "pICVKwK6OGhL",
    "outputId": "00fe2a60-1e02-416a-89ad-e7c4b09b633b"
   },
   "outputs": [
    {
     "name": "stdout",
     "output_type": "stream",
     "text": [
      "\n",
      "Collecting usage statistics. To deactivate, set browser.gatherUsageStats to False.\n",
      "\n",
      "\n",
      "  You can now view your Streamlit app in your browser.\n",
      "\n",
      "  Network URL: http://172.28.0.12:8501\n",
      "  External URL: http://34.73.2.222:8501\n",
      "\n"
     ]
    }
   ],
   "source": [
    "# Shows content of nohub.out\n",
    "!cat nohup.out"
   ]
  }
 ],
 "metadata": {
  "colab": {
   "provenance": []
  },
  "kernelspec": {
   "display_name": "Python 3 (ipykernel)",
   "language": "python",
   "name": "python3"
  },
  "language_info": {
   "codemirror_mode": {
    "name": "ipython",
    "version": 3
   },
   "file_extension": ".py",
   "mimetype": "text/x-python",
   "name": "python",
   "nbconvert_exporter": "python",
   "pygments_lexer": "ipython3",
   "version": "3.10.10"
  }
 },
 "nbformat": 4,
 "nbformat_minor": 1
}
